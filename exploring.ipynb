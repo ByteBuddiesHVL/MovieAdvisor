{
 "cells": [
  {
   "cell_type": "code",
   "id": "initial_id",
   "metadata": {
    "collapsed": true,
    "ExecuteTime": {
     "end_time": "2024-10-23T11:11:44.304405Z",
     "start_time": "2024-10-23T11:11:37.206941Z"
    }
   },
   "source": [
    "import pandas as pd\n",
    "\n",
    "ratings = pd.read_csv('data/ml-32m/ratings.csv')\n",
    "movies = pd.read_csv('data/ml-32m/movies.csv')"
   ],
   "outputs": [],
   "execution_count": 3
  },
  {
   "metadata": {
    "ExecuteTime": {
     "end_time": "2024-10-23T11:18:33.727519Z",
     "start_time": "2024-10-23T11:18:33.559606Z"
    }
   },
   "cell_type": "code",
   "source": [
    "print(ratings.isnull().sum())\n",
    "print()\n",
    "print(movies.isnull().sum())"
   ],
   "id": "a4ed35cbff7f7b63",
   "outputs": [
    {
     "name": "stdout",
     "output_type": "stream",
     "text": [
      "userId       0\n",
      "movieId      0\n",
      "rating       0\n",
      "timestamp    0\n",
      "dtype: int64\n",
      "\n",
      "movieId    0\n",
      "title      0\n",
      "genres     0\n",
      "dtype: int64\n"
     ]
    }
   ],
   "execution_count": 8
  }
 ],
 "metadata": {
  "kernelspec": {
   "display_name": "Python 3",
   "language": "python",
   "name": "python3"
  },
  "language_info": {
   "codemirror_mode": {
    "name": "ipython",
    "version": 2
   },
   "file_extension": ".py",
   "mimetype": "text/x-python",
   "name": "python",
   "nbconvert_exporter": "python",
   "pygments_lexer": "ipython2",
   "version": "2.7.6"
  }
 },
 "nbformat": 4,
 "nbformat_minor": 5
}
