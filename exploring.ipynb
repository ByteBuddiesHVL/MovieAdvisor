{
 "cells": [
  {
   "cell_type": "code",
   "id": "initial_id",
   "metadata": {
    "collapsed": true,
    "ExecuteTime": {
     "end_time": "2024-11-15T08:00:32.598711Z",
     "start_time": "2024-11-15T08:00:21.044345Z"
    }
   },
   "source": [
    "import pandas as pd\n",
    "from sklearn.impute import KNNImputer\n",
    "\n",
    "ratings = pd.read_csv('data/ml-32m/ratings.csv', dtype={'userId': 'int64', 'movieId': 'int64', 'rating': 'float64'})\n",
    "ratings = ratings.head(100000)\n",
    "movies = pd.read_csv('data/ml-32m/movies.csv', dtype={'movieId': 'int64', 'title': 'str', 'genres': 'str'})"
   ],
   "outputs": [],
   "execution_count": 1
  },
  {
   "metadata": {
    "ExecuteTime": {
     "end_time": "2024-11-11T19:37:44.541187Z",
     "start_time": "2024-11-11T19:37:44.516293Z"
    }
   },
   "cell_type": "code",
   "source": "ratings.head()",
   "id": "1d276458873df56a",
   "outputs": [
    {
     "data": {
      "text/plain": [
       "   userId  movieId  rating  timestamp\n",
       "0       1       17     4.0  944249077\n",
       "1       1       25     1.0  944250228\n",
       "2       1       29     2.0  943230976\n",
       "3       1       30     5.0  944249077\n",
       "4       1       32     5.0  943228858"
      ],
      "text/html": [
       "<div>\n",
       "<style scoped>\n",
       "    .dataframe tbody tr th:only-of-type {\n",
       "        vertical-align: middle;\n",
       "    }\n",
       "\n",
       "    .dataframe tbody tr th {\n",
       "        vertical-align: top;\n",
       "    }\n",
       "\n",
       "    .dataframe thead th {\n",
       "        text-align: right;\n",
       "    }\n",
       "</style>\n",
       "<table border=\"1\" class=\"dataframe\">\n",
       "  <thead>\n",
       "    <tr style=\"text-align: right;\">\n",
       "      <th></th>\n",
       "      <th>userId</th>\n",
       "      <th>movieId</th>\n",
       "      <th>rating</th>\n",
       "      <th>timestamp</th>\n",
       "    </tr>\n",
       "  </thead>\n",
       "  <tbody>\n",
       "    <tr>\n",
       "      <th>0</th>\n",
       "      <td>1</td>\n",
       "      <td>17</td>\n",
       "      <td>4.0</td>\n",
       "      <td>944249077</td>\n",
       "    </tr>\n",
       "    <tr>\n",
       "      <th>1</th>\n",
       "      <td>1</td>\n",
       "      <td>25</td>\n",
       "      <td>1.0</td>\n",
       "      <td>944250228</td>\n",
       "    </tr>\n",
       "    <tr>\n",
       "      <th>2</th>\n",
       "      <td>1</td>\n",
       "      <td>29</td>\n",
       "      <td>2.0</td>\n",
       "      <td>943230976</td>\n",
       "    </tr>\n",
       "    <tr>\n",
       "      <th>3</th>\n",
       "      <td>1</td>\n",
       "      <td>30</td>\n",
       "      <td>5.0</td>\n",
       "      <td>944249077</td>\n",
       "    </tr>\n",
       "    <tr>\n",
       "      <th>4</th>\n",
       "      <td>1</td>\n",
       "      <td>32</td>\n",
       "      <td>5.0</td>\n",
       "      <td>943228858</td>\n",
       "    </tr>\n",
       "  </tbody>\n",
       "</table>\n",
       "</div>"
      ]
     },
     "execution_count": 3,
     "metadata": {},
     "output_type": "execute_result"
    }
   ],
   "execution_count": 3
  },
  {
   "metadata": {
    "ExecuteTime": {
     "end_time": "2024-11-11T19:37:46.738767Z",
     "start_time": "2024-11-11T19:37:46.731299Z"
    }
   },
   "cell_type": "code",
   "source": "movies.head()",
   "id": "630211765682b26d",
   "outputs": [
    {
     "data": {
      "text/plain": [
       "   movieId                               title  \\\n",
       "0        1                    Toy Story (1995)   \n",
       "1        2                      Jumanji (1995)   \n",
       "2        3             Grumpier Old Men (1995)   \n",
       "3        4            Waiting to Exhale (1995)   \n",
       "4        5  Father of the Bride Part II (1995)   \n",
       "\n",
       "                                        genres  \n",
       "0  Adventure|Animation|Children|Comedy|Fantasy  \n",
       "1                   Adventure|Children|Fantasy  \n",
       "2                               Comedy|Romance  \n",
       "3                         Comedy|Drama|Romance  \n",
       "4                                       Comedy  "
      ],
      "text/html": [
       "<div>\n",
       "<style scoped>\n",
       "    .dataframe tbody tr th:only-of-type {\n",
       "        vertical-align: middle;\n",
       "    }\n",
       "\n",
       "    .dataframe tbody tr th {\n",
       "        vertical-align: top;\n",
       "    }\n",
       "\n",
       "    .dataframe thead th {\n",
       "        text-align: right;\n",
       "    }\n",
       "</style>\n",
       "<table border=\"1\" class=\"dataframe\">\n",
       "  <thead>\n",
       "    <tr style=\"text-align: right;\">\n",
       "      <th></th>\n",
       "      <th>movieId</th>\n",
       "      <th>title</th>\n",
       "      <th>genres</th>\n",
       "    </tr>\n",
       "  </thead>\n",
       "  <tbody>\n",
       "    <tr>\n",
       "      <th>0</th>\n",
       "      <td>1</td>\n",
       "      <td>Toy Story (1995)</td>\n",
       "      <td>Adventure|Animation|Children|Comedy|Fantasy</td>\n",
       "    </tr>\n",
       "    <tr>\n",
       "      <th>1</th>\n",
       "      <td>2</td>\n",
       "      <td>Jumanji (1995)</td>\n",
       "      <td>Adventure|Children|Fantasy</td>\n",
       "    </tr>\n",
       "    <tr>\n",
       "      <th>2</th>\n",
       "      <td>3</td>\n",
       "      <td>Grumpier Old Men (1995)</td>\n",
       "      <td>Comedy|Romance</td>\n",
       "    </tr>\n",
       "    <tr>\n",
       "      <th>3</th>\n",
       "      <td>4</td>\n",
       "      <td>Waiting to Exhale (1995)</td>\n",
       "      <td>Comedy|Drama|Romance</td>\n",
       "    </tr>\n",
       "    <tr>\n",
       "      <th>4</th>\n",
       "      <td>5</td>\n",
       "      <td>Father of the Bride Part II (1995)</td>\n",
       "      <td>Comedy</td>\n",
       "    </tr>\n",
       "  </tbody>\n",
       "</table>\n",
       "</div>"
      ]
     },
     "execution_count": 4,
     "metadata": {},
     "output_type": "execute_result"
    }
   ],
   "execution_count": 4
  },
  {
   "metadata": {
    "ExecuteTime": {
     "end_time": "2024-11-11T19:37:50.312579Z",
     "start_time": "2024-11-11T19:37:50.294491Z"
    }
   },
   "cell_type": "code",
   "source": [
    "print(ratings.isnull().sum())\n",
    "print()\n",
    "print(movies.isnull().sum())"
   ],
   "id": "a4ed35cbff7f7b63",
   "outputs": [
    {
     "name": "stdout",
     "output_type": "stream",
     "text": [
      "userId       0\n",
      "movieId      0\n",
      "rating       0\n",
      "timestamp    0\n",
      "dtype: int64\n",
      "\n",
      "movieId    0\n",
      "title      0\n",
      "genres     0\n",
      "dtype: int64\n"
     ]
    }
   ],
   "execution_count": 5
  },
  {
   "metadata": {
    "ExecuteTime": {
     "end_time": "2024-11-11T19:42:12.377676Z",
     "start_time": "2024-11-11T19:42:12.350012Z"
    }
   },
   "cell_type": "code",
   "source": [
    "data = pd.merge(ratings, movies, on='movieId')\n",
    "data.head()"
   ],
   "id": "770d67ee643e4e69",
   "outputs": [
    {
     "data": {
      "text/plain": [
       "   userId  movieId  rating  timestamp  \\\n",
       "0       1       17     4.0  944249077   \n",
       "1       1       25     1.0  944250228   \n",
       "2       1       29     2.0  943230976   \n",
       "3       1       30     5.0  944249077   \n",
       "4       1       32     5.0  943228858   \n",
       "\n",
       "                                               title  \\\n",
       "0                       Sense and Sensibility (1995)   \n",
       "1                           Leaving Las Vegas (1995)   \n",
       "2  City of Lost Children, The (Cité des enfants p...   \n",
       "3  Shanghai Triad (Yao a yao yao dao waipo qiao) ...   \n",
       "4          Twelve Monkeys (a.k.a. 12 Monkeys) (1995)   \n",
       "\n",
       "                                   genres  \n",
       "0                           Drama|Romance  \n",
       "1                           Drama|Romance  \n",
       "2  Adventure|Drama|Fantasy|Mystery|Sci-Fi  \n",
       "3                             Crime|Drama  \n",
       "4                 Mystery|Sci-Fi|Thriller  "
      ],
      "text/html": [
       "<div>\n",
       "<style scoped>\n",
       "    .dataframe tbody tr th:only-of-type {\n",
       "        vertical-align: middle;\n",
       "    }\n",
       "\n",
       "    .dataframe tbody tr th {\n",
       "        vertical-align: top;\n",
       "    }\n",
       "\n",
       "    .dataframe thead th {\n",
       "        text-align: right;\n",
       "    }\n",
       "</style>\n",
       "<table border=\"1\" class=\"dataframe\">\n",
       "  <thead>\n",
       "    <tr style=\"text-align: right;\">\n",
       "      <th></th>\n",
       "      <th>userId</th>\n",
       "      <th>movieId</th>\n",
       "      <th>rating</th>\n",
       "      <th>timestamp</th>\n",
       "      <th>title</th>\n",
       "      <th>genres</th>\n",
       "    </tr>\n",
       "  </thead>\n",
       "  <tbody>\n",
       "    <tr>\n",
       "      <th>0</th>\n",
       "      <td>1</td>\n",
       "      <td>17</td>\n",
       "      <td>4.0</td>\n",
       "      <td>944249077</td>\n",
       "      <td>Sense and Sensibility (1995)</td>\n",
       "      <td>Drama|Romance</td>\n",
       "    </tr>\n",
       "    <tr>\n",
       "      <th>1</th>\n",
       "      <td>1</td>\n",
       "      <td>25</td>\n",
       "      <td>1.0</td>\n",
       "      <td>944250228</td>\n",
       "      <td>Leaving Las Vegas (1995)</td>\n",
       "      <td>Drama|Romance</td>\n",
       "    </tr>\n",
       "    <tr>\n",
       "      <th>2</th>\n",
       "      <td>1</td>\n",
       "      <td>29</td>\n",
       "      <td>2.0</td>\n",
       "      <td>943230976</td>\n",
       "      <td>City of Lost Children, The (Cité des enfants p...</td>\n",
       "      <td>Adventure|Drama|Fantasy|Mystery|Sci-Fi</td>\n",
       "    </tr>\n",
       "    <tr>\n",
       "      <th>3</th>\n",
       "      <td>1</td>\n",
       "      <td>30</td>\n",
       "      <td>5.0</td>\n",
       "      <td>944249077</td>\n",
       "      <td>Shanghai Triad (Yao a yao yao dao waipo qiao) ...</td>\n",
       "      <td>Crime|Drama</td>\n",
       "    </tr>\n",
       "    <tr>\n",
       "      <th>4</th>\n",
       "      <td>1</td>\n",
       "      <td>32</td>\n",
       "      <td>5.0</td>\n",
       "      <td>943228858</td>\n",
       "      <td>Twelve Monkeys (a.k.a. 12 Monkeys) (1995)</td>\n",
       "      <td>Mystery|Sci-Fi|Thriller</td>\n",
       "    </tr>\n",
       "  </tbody>\n",
       "</table>\n",
       "</div>"
      ]
     },
     "execution_count": 16,
     "metadata": {},
     "output_type": "execute_result"
    }
   ],
   "execution_count": 16
  },
  {
   "metadata": {
    "ExecuteTime": {
     "end_time": "2024-11-11T19:37:56.223871Z",
     "start_time": "2024-11-11T19:37:56.218213Z"
    }
   },
   "cell_type": "code",
   "source": [
    "print(ratings['userId'].nunique(), \"users\")\n",
    "print(ratings['movieId'].nunique(), \"movies\")"
   ],
   "id": "93533ac69e1031d7",
   "outputs": [
    {
     "name": "stdout",
     "output_type": "stream",
     "text": [
      "66 users\n",
      "3965 movies\n"
     ]
    }
   ],
   "execution_count": 7
  },
  {
   "metadata": {
    "ExecuteTime": {
     "end_time": "2024-11-11T19:42:14.158613Z",
     "start_time": "2024-11-11T19:42:14.150793Z"
    }
   },
   "cell_type": "code",
   "source": [
    "from scipy.sparse import csr_matrix\n",
    "\n",
    "user_movie_matrix_sparse = csr_matrix((ratings['rating'], \n",
    "                                        (ratings['userId'], \n",
    "                                         ratings['movieId'])))\n",
    "user_movie_matrix_sparse"
   ],
   "id": "8c318340074a2ebf",
   "outputs": [
    {
     "data": {
      "text/plain": [
       "<627x291486 sparse matrix of type '<class 'numpy.float64'>'\n",
       "\twith 100000 stored elements in Compressed Sparse Row format>"
      ]
     },
     "execution_count": 17,
     "metadata": {},
     "output_type": "execute_result"
    }
   ],
   "execution_count": 17
  },
  {
   "metadata": {
    "ExecuteTime": {
     "end_time": "2024-11-11T19:48:59.274268Z",
     "start_time": "2024-11-11T19:48:58.924959Z"
    }
   },
   "cell_type": "code",
   "source": [
    "from surprise import Dataset, Reader, SVD, accuracy, KNNBasic, NormalPredictor\n",
    "from surprise.model_selection import train_test_split\n",
    "\n",
    "reader = Reader(rating_scale=(0.5, 5))\n",
    "data = Dataset.load_from_df(ratings[['userId','movieId','rating']], reader)\n",
    "\n",
    "trainSet, testSet = train_test_split(data, test_size=0.2, random_state=27)\n",
    "\n",
    "model = NormalPredictor()\n",
    "model.fit(trainSet)\n",
    "\n",
    "predictions = model.test(testSet)\n",
    "rmse = accuracy.rmse(predictions)\n",
    "print(f\"RMSE: {rmse}\")"
   ],
   "id": "ccd24d5303f6e582",
   "outputs": [
    {
     "name": "stdout",
     "output_type": "stream",
     "text": [
      "RMSE: 1.4663\n",
      "RMSE: 1.466291416842621\n"
     ]
    }
   ],
   "execution_count": 20
  },
  {
   "metadata": {
    "ExecuteTime": {
     "end_time": "2024-11-15T08:06:39.423506Z",
     "start_time": "2024-11-15T08:06:28.169899Z"
    }
   },
   "cell_type": "code",
   "source": [
    "import pickle\n",
    "\n",
    "with open(\"model_31-10-24.pkl\", \"rb\") as file:\n",
    "    model = pickle.load(file)"
   ],
   "id": "f69d33ec3fbfd311",
   "outputs": [],
   "execution_count": 5
  },
  {
   "metadata": {
    "ExecuteTime": {
     "end_time": "2024-11-15T11:11:17.041489Z",
     "start_time": "2024-11-15T11:11:16.863083Z"
    }
   },
   "cell_type": "code",
   "source": [
    "wanted = [\"Children\"]\n",
    "unwanted = [\"Animation\"]\n",
    "\n",
    "min_genre_match = 3\n",
    "\n",
    "wanted_condition = True if len(wanted) == 0 else movies['genres'].apply(\n",
    "    lambda x: len(set(x.split('|')).intersection(wanted)) >= min(len(wanted),min_genre_match))\n",
    "unwanted_condition = True if len(unwanted) == 0 else movies['genres'].apply(\n",
    "    lambda x: not any(genre in x.split('|') for genre in unwanted))\n",
    "\n",
    "filtered_movies = movies[wanted_condition & unwanted_condition]\n",
    "\n",
    "# randomize to prevent older movies first?\n",
    "\n",
    "# liked_movies = [205383,293]\n",
    "# liked_of_recommended_movies = filtered_movies[filtered_movies['movieId'].isin(liked_movies)]\n",
    "# print(liked_of_recommended_movies)\n",
    "\n",
    "# use tags.csv with AI to find similar movies with similar tags\n",
    "\n",
    "recommended_movies = []\n",
    "for movie_id in filtered_movies['movieId'].values:\n",
    "    predicted_rating = model.predict(uid=0, iid=movie_id)\n",
    "    recommended_movies.append((movie_id, predicted_rating.est))\n",
    "\n",
    "recommended_movies.sort(key=lambda x: x[1], reverse=True)\n",
    "\n",
    "top_recommendations = filtered_movies[filtered_movies['movieId'].isin([x[0] for x in recommended_movies[:10]])]\n",
    "top_recommendations.to_numpy().tolist()"
   ],
   "id": "e22f7231fc523925",
   "outputs": [
    {
     "data": {
      "text/plain": [
       "[[953, \"It's a Wonderful Life (1946)\", 'Children|Drama|Fantasy|Romance'],\n",
       " [2804, 'Christmas Story, A (1983)', 'Children|Comedy'],\n",
       " [98241, 'Starry starry night (Xing kong) (2011)', 'Children|Drama|Fantasy'],\n",
       " [118085, 'Welcome, or No Trespassing (1964)', 'Children|Comedy'],\n",
       " [120311, 'Drishyam (2013)', 'Children|Drama|Thriller'],\n",
       " [139620,\n",
       "  \"Everything's Gonna Be Great (1998)\",\n",
       "  'Adventure|Children|Comedy|Drama'],\n",
       " [158958, 'Pollyanna (2003)', 'Children|Drama'],\n",
       " [203757, 'So Long, My Son (2019)', 'Children|Drama'],\n",
       " [263965,\n",
       "  'Downton Abbey: Christmas Special 2015 (2015)',\n",
       "  'Children|Drama|Romance'],\n",
       " [289193, 'The Wonderful Story of Henry Sugar', 'Adventure|Children|Comedy']]"
      ]
     },
     "execution_count": 14,
     "metadata": {},
     "output_type": "execute_result"
    }
   ],
   "execution_count": 14
  },
  {
   "metadata": {
    "ExecuteTime": {
     "end_time": "2024-11-02T16:29:40.504744Z",
     "start_time": "2024-11-02T16:29:03.989133Z"
    }
   },
   "cell_type": "code",
   "source": [
    "import pickle\n",
    "\n",
    "with open('model_31-10-24.pkl', 'wb') as file:\n",
    "    pickle.dump(model, file)\n",
    "    \n",
    "print(f\"Model saved!\")"
   ],
   "id": "3d8e2d4c5080a348",
   "outputs": [
    {
     "name": "stdout",
     "output_type": "stream",
     "text": [
      "Model saved!\n"
     ]
    }
   ],
   "execution_count": 6
  }
 ],
 "metadata": {
  "kernelspec": {
   "display_name": "Python 3",
   "language": "python",
   "name": "python3"
  },
  "language_info": {
   "codemirror_mode": {
    "name": "ipython",
    "version": 2
   },
   "file_extension": ".py",
   "mimetype": "text/x-python",
   "name": "python",
   "nbconvert_exporter": "python",
   "pygments_lexer": "ipython2",
   "version": "2.7.6"
  }
 },
 "nbformat": 4,
 "nbformat_minor": 5
}
